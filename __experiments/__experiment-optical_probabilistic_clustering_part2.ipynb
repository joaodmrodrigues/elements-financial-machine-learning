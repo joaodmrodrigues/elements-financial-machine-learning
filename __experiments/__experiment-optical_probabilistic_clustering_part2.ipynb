{
 "cells": [
  {
   "cell_type": "markdown",
   "metadata": {},
   "source": [
    "# Optimal probabilistic clustering - Part II\n",
    "> ...\n",
    "\n",
    "- toc: true\n",
    "- branch: master\n",
    "- badges: true\n",
    "- comments: true\n",
    "- categories: [Clustering, Entropy, Membership Entropy]\n",
    "- image: images/post_image_optimal_clustering.png\n",
    "- hide: false\n",
    "- search_exclude: false\n",
    "- author: Joao Rodrigues"
   ]
  },
  {
   "cell_type": "code",
   "execution_count": null,
   "metadata": {},
   "outputs": [],
   "source": []
  },
  {
   "cell_type": "code",
   "execution_count": 29,
   "metadata": {},
   "outputs": [],
   "source": [
    "import numpy as np\n",
    "from scipy.linalg import norm\n",
    "from scipy.spatial.distance import cdist\n",
    "\n",
    "class OPC:\n",
    "    def __init__(self, n_clusters=10, max_iter=150, m=2, error=1e-5, random_state=42):\n",
    "        self.u, self.centers = None, None\n",
    "        self.n_clusters = n_clusters\n",
    "        self.max_iter = max_iter\n",
    "        self.m = m\n",
    "        self.error = error\n",
    "        self.random_state = random_state\n",
    "\n",
    "    def fit(self, X, initial_centers=None):\n",
    "        N = X.shape[0]\n",
    "        C = self.n_clusters\n",
    "        centers = initial_centers\n",
    "\n",
    "        # u = np.random.dirichlet(np.ones(C), size=N)\n",
    "        r = np.random.RandomState(self.random_state)\n",
    "        u = r.rand(N,C)\n",
    "        u = u / np.tile(u.sum(axis=1)[np.newaxis].T,C)\n",
    "\n",
    "        iteration = 0\n",
    "        while iteration < self.max_iter:\n",
    "            u2 = u.copy()\n",
    "            \n",
    "            if iteration==0 and not centers is None:\n",
    "                centers = centers\n",
    "            else:\n",
    "                centers = self.next_centers(X, u)\n",
    "                \n",
    "            u = self.next_u(X, centers)\n",
    "            iteration += 1\n",
    "\n",
    "            # Stopping rule\n",
    "            if norm(u - u2) < self.error:\n",
    "                break\n",
    "\n",
    "        self.u = u\n",
    "        self.centers = centers\n",
    "        return self\n",
    "\n",
    "    def next_centers(self, X, u):\n",
    "        um = u ** self.m\n",
    "        return (X.T @ um / np.sum(um, axis=0)).T\n",
    "\n",
    "    def next_u(self, X, centers):\n",
    "        return self._predict(X, centers)\n",
    "\n",
    "    def _predict(self, X, centers):\n",
    "        power = float(2 / (self.m - 1))\n",
    "        temp = cdist(X, centers) ** power\n",
    "        denominator_ = temp.reshape((X.shape[0], 1, -1)).repeat(temp.shape[-1], axis=1)\n",
    "        denominator_ = temp[:, :, np.newaxis] / denominator_\n",
    "\n",
    "        return 1 / denominator_.sum(2)\n",
    "\n",
    "    def predict(self, X):\n",
    "        if len(X.shape) == 1:\n",
    "            X = np.expand_dims(X, axis=0)\n",
    "\n",
    "        u = self._predict(X, self.centers)\n",
    "        return np.argmax(u, axis=-1)"
   ]
  },
  {
   "cell_type": "code",
   "execution_count": null,
   "metadata": {},
   "outputs": [],
   "source": []
  },
  {
   "cell_type": "code",
   "execution_count": 30,
   "metadata": {},
   "outputs": [],
   "source": [
    "######################################## Part I\n",
    "\n",
    "def run_cluster(n_clusters, data, initial_centers=None, random_state=42):\n",
    "    # membership probabilities\n",
    "    model = OPC(n_clusters=n_clusters, random_state=random_state, max_iter=1000, error=1e-9)\n",
    "    model = model.fit(data, initial_centers=initial_centers)\n",
    "    p = model.u\n",
    "    centers = model.centers\n",
    "    # representative cluster\n",
    "    representative_cluster = np.argmax(p, 1)\n",
    "    # membership entropy\n",
    "    Sx = -np.sum(p*np.log(p), 1) / np.log(n_clusters)\n",
    "    # total membership entropy (across the entire feature space)\n",
    "    S = np.sum(Sx)        \n",
    "    \n",
    "    return centers, p, representative_cluster, Sx, S\n",
    "\n"
   ]
  },
  {
   "cell_type": "code",
   "execution_count": null,
   "metadata": {},
   "outputs": [],
   "source": []
  },
  {
   "cell_type": "markdown",
   "metadata": {},
   "source": [
    "Check if I'm introducing a regularization in inferring the optimal number of clusters"
   ]
  },
  {
   "cell_type": "code",
   "execution_count": 103,
   "metadata": {},
   "outputs": [],
   "source": [
    "lamb = 1.0"
   ]
  },
  {
   "cell_type": "code",
   "execution_count": null,
   "metadata": {},
   "outputs": [],
   "source": []
  },
  {
   "cell_type": "markdown",
   "metadata": {},
   "source": [
    "## Experimental results"
   ]
  },
  {
   "cell_type": "code",
   "execution_count": 104,
   "metadata": {},
   "outputs": [],
   "source": [
    "import numpy as np"
   ]
  },
  {
   "cell_type": "markdown",
   "metadata": {},
   "source": [
    "(n,k,m) n observations, k clusters, at least m observations per cluster"
   ]
  },
  {
   "cell_type": "code",
   "execution_count": 147,
   "metadata": {},
   "outputs": [],
   "source": [
    "def construct_random_partition(n, k, m, seed=None):\n",
    "    rand = np.random.RandomState(seed=seed)\n",
    "    parts = rand.choice(range(1, n-k*(m-1)), k-1, replace=False)\n",
    "    parts.sort()\n",
    "    parts = np.append(parts, n-k*(m-1))\n",
    "    parts = np.append(parts[0], np.diff(parts)) - 1 + m\n",
    "    \n",
    "    return parts"
   ]
  },
  {
   "cell_type": "code",
   "execution_count": 158,
   "metadata": {},
   "outputs": [
    {
     "name": "stdout",
     "output_type": "stream",
     "text": [
      "[153  75  13  33   7  36 183]\n"
     ]
    }
   ],
   "source": [
    "partition = construct_random_partition(n=500, k=7, m=2, seed=40)\n",
    "print(partition)"
   ]
  },
  {
   "cell_type": "markdown",
   "metadata": {},
   "source": [
    "**Generation of random datasets**"
   ]
  },
  {
   "cell_type": "code",
   "execution_count": 159,
   "metadata": {},
   "outputs": [],
   "source": [
    "def generate_random_dataset(partition, n_features, std, seed):\n",
    "    random_state = np.random.RandomState(seed=seed)\n",
    "    dataset = list()\n",
    "    for n in partition:\n",
    "        # cluster centre coordinates\n",
    "        cluster_centre = random_state.uniform(-1, 1, n_features)\n",
    "        # observation coordinates\n",
    "        for observation in range(0, n):\n",
    "            dataset.append(cluster_centre+std*random_state.standard_normal(n_features))\n",
    "    dataset = np.array(dataset)\n",
    "    # shuffles the observations\n",
    "    dataset = dataset[random_state.permutation(dataset.shape[0]), :]\n",
    "    \n",
    "    return np.array(dataset)"
   ]
  },
  {
   "cell_type": "code",
   "execution_count": 160,
   "metadata": {},
   "outputs": [],
   "source": [
    "dataset = generate_random_dataset(partition=partition, n_features=2, std=0.10, seed=11)"
   ]
  },
  {
   "cell_type": "markdown",
   "metadata": {},
   "source": [
    "We will, at each iteration, collect the mean-intracluster entropy"
   ]
  },
  {
   "cell_type": "code",
   "execution_count": 161,
   "metadata": {},
   "outputs": [],
   "source": [
    "Si = list()\n",
    "iteration = 0\n",
    "centers = None\n",
    "n_clusters_trials = np.arange(2, 12, 1)"
   ]
  },
  {
   "cell_type": "markdown",
   "metadata": {},
   "source": [
    "Some helpful functions"
   ]
  },
  {
   "cell_type": "code",
   "execution_count": 162,
   "metadata": {},
   "outputs": [],
   "source": [
    "### Minimization of membership entropy\n",
    "def minimize_membership_entropy(n_clusters_trials, dataset, lamb=0, random_state=42, n_seed=1):\n",
    "\n",
    "    # Creates the seeds\n",
    "    if n_seed == 1:\n",
    "        seeds = np.array([random_state])\n",
    "    else:\n",
    "        seeds = np.random.randint(low=1, high=1e9, size=n_seed)\n",
    "        \n",
    "    # Runs the clustering for different seeds and number of clusters\n",
    "    total_entropies = list()\n",
    "    \n",
    "    for seed in seeds:\n",
    "        total_entropies_ = list()\n",
    "        for trial in n_clusters_trials:\n",
    "            _, _, _, _, total_entropy = run_cluster(n_clusters=trial, \n",
    "                                                    data=dataset, \n",
    "                                                    random_state=seed)\n",
    "            total_entropies_.append(total_entropy+lamb*trial)\n",
    "        total_entropies.append(total_entropies_)\n",
    "    total_entropies = np.array(total_entropies)\n",
    "        \n",
    "    # Finds the optimal number of clusters and the respective seed\n",
    "    location = np.argwhere(total_entropies == np.min(total_entropies))[0]\n",
    "    optimal_seed = seeds[location[0]]\n",
    "    optimal_nclusters = n_clusters_trials[location[1]]\n",
    "    \n",
    "    \n",
    "    return optimal_seed, optimal_nclusters, total_entropies\n",
    "    \n",
    "    \n",
    "### Cluster quality\n",
    "def calculate_cluster_quality(p, representative_cluster, PRINT=True):\n",
    "    Si = dict()\n",
    "    for clust in set(representative_cluster):\n",
    "        probs = p[np.argmax(p, 1)==clust, :]\n",
    "        entropy = -np.sum(probs*np.log(probs), 1) / np.log(probs.shape[1])\n",
    "        Si.update({clust: np.mean(entropy)})\n",
    "\n",
    "    if PRINT:\n",
    "        [print(\"Mean membership entropy across cluster {0} = {1}\".format(i, np.round(Si[i], 3))) for i in Si.keys()]\n",
    "        \n",
    "    return Si"
   ]
  },
  {
   "cell_type": "markdown",
   "metadata": {},
   "source": [
    "### Iteration 1"
   ]
  },
  {
   "cell_type": "markdown",
   "metadata": {},
   "source": [
    "**1.1) Minimization of membership entropy**"
   ]
  },
  {
   "cell_type": "code",
   "execution_count": 163,
   "metadata": {
    "scrolled": true
   },
   "outputs": [
    {
     "name": "stdout",
     "output_type": "stream",
     "text": [
      "Optimal number of clusters = 2\n"
     ]
    }
   ],
   "source": [
    "optimal_seed, optimal_nclusters, total_entropies = minimize_membership_entropy(n_clusters_trials, \n",
    "                                                                               dataset, \n",
    "                                                                               lamb, \n",
    "                                                                               n_seed=100)\n",
    "print(\"Optimal number of clusters =\", optimal_nclusters)"
   ]
  },
  {
   "cell_type": "markdown",
   "metadata": {},
   "source": [
    "**1.2) Clustering**"
   ]
  },
  {
   "cell_type": "code",
   "execution_count": 164,
   "metadata": {},
   "outputs": [
    {
     "name": "stdout",
     "output_type": "stream",
     "text": [
      "Total membership entropy = 132.51\n"
     ]
    }
   ],
   "source": [
    "centers, p, representative_cluster, Sx, S = run_cluster(optimal_nclusters, dataset, random_state=optimal_seed)\n",
    "print(\"Total membership entropy =\", np.round(S, 2))"
   ]
  },
  {
   "cell_type": "markdown",
   "metadata": {},
   "source": [
    "**1.3) Cluster quality**"
   ]
  },
  {
   "cell_type": "code",
   "execution_count": 165,
   "metadata": {},
   "outputs": [
    {
     "name": "stdout",
     "output_type": "stream",
     "text": [
      "Mean membership entropy across cluster 0 = 0.152\n",
      "Mean membership entropy across cluster 1 = 0.32\n"
     ]
    }
   ],
   "source": [
    "Si.append(calculate_cluster_quality(p, representative_cluster))"
   ]
  },
  {
   "cell_type": "markdown",
   "metadata": {},
   "source": [
    "**1.4) Plot**"
   ]
  },
  {
   "cell_type": "code",
   "execution_count": 166,
   "metadata": {},
   "outputs": [],
   "source": [
    "import matplotlib\n",
    "from matplotlib import cm\n",
    "import matplotlib.pyplot as plt\n",
    "\n",
    "def make_rgb_transparent(rgb, alpha):\n",
    "    bg_rgb = [1, 1, 1]\n",
    "    return [alpha * c1 + (1 - alpha) * c2 for (c1, c2) in zip(rgb, bg_rgb)]\n",
    "colormap = cm.get_cmap('Accent')\n",
    "\n",
    "edgecolors = list()\n",
    "facecolors = list()\n",
    "for i in range(0, optimal_nclusters):\n",
    "    edgecolors.append(make_rgb_transparent(rgb=colormap(1.0*i/(optimal_nclusters-1)), alpha=1))\n",
    "    facecolors.append(make_rgb_transparent(rgb=colormap(1.0*i/(optimal_nclusters-1)), alpha=0.65))"
   ]
  },
  {
   "cell_type": "code",
   "execution_count": 167,
   "metadata": {},
   "outputs": [
    {
     "data": {
      "image/png": "[encoded data removed]",
      "text/plain": [
       "<Figure size 720x288 with 2 Axes>"
      ]
     },
     "metadata": {
      "needs_background": "light"
     },
     "output_type": "display_data"
    }
   ],
   "source": [
    "fig, axes = plt.subplots(1, 2, figsize=(10, 4))\n",
    "\n",
    "axes[0].plot([optimal_nclusters, optimal_nclusters], [0, np.max(total_entropies)], color=(0.8,0.6,0.6), linewidth=2)\n",
    "for i in range(0, total_entropies.shape[0]):\n",
    "    axes[0].plot(n_clusters_trials, total_entropies[i,:], color=(0.46,0.46,0.46,0.3), linewidth=2)\n",
    "axes[0].set_xlabel('Number of clusters')\n",
    "axes[0].set_ylabel('Total membership entropy')\n",
    "\n",
    "color_seq = list()\n",
    "for j in range(0, dataset.shape[0]):\n",
    "    color_seq.append(make_rgb_transparent(edgecolors[representative_cluster[j]], 1-Sx[j]))\n",
    "for i in range(0, optimal_nclusters):\n",
    "    axes[1].scatter([], [], label=str(i), color=edgecolors[i])\n",
    "axes[1].scatter(dataset[:,0], dataset[:,1], marker='.', s=60, edgecolors=(0.6,0.6,0.6,0.5), c=color_seq)\n",
    "axes[1].scatter(centers[:,0], centers[:,1], color=(0.8,0.2,0.2, 0.8), marker=\"v\")\n",
    "axes[1].set_xlabel('X')\n",
    "axes[1].set_ylabel('Y')\n",
    "axes[1].set_xlim(-1.2,1.2)\n",
    "axes[1].set_ylim(-1.2,1.2)\n",
    "axes[1].legend(loc=\"best\")\n",
    "\n",
    "plt.tight_layout()\n",
    "plt.show()"
   ]
  },
  {
   "cell_type": "markdown",
   "metadata": {},
   "source": [
    "**1.5) Finds clusters with an below-average mean membership entropy**"
   ]
  },
  {
   "cell_type": "code",
   "execution_count": 168,
   "metadata": {},
   "outputs": [
    {
     "name": "stdout",
     "output_type": "stream",
     "text": [
      "Intra-cluster mean membership entropy\n"
     ]
    },
    {
     "data": {
      "text/plain": [
       "{0: 0.1517563457407526, 1: 0.32029601152984294}"
      ]
     },
     "execution_count": 168,
     "metadata": {},
     "output_type": "execute_result"
    }
   ],
   "source": [
    "print(\"Intra-cluster mean membership entropy\")\n",
    "Si[iteration]"
   ]
  },
  {
   "cell_type": "code",
   "execution_count": 169,
   "metadata": {},
   "outputs": [],
   "source": [
    "n_collect = 1"
   ]
  },
  {
   "cell_type": "code",
   "execution_count": 170,
   "metadata": {},
   "outputs": [
    {
     "name": "stdout",
     "output_type": "stream",
     "text": [
      "Best clusters ->  [0]\n"
     ]
    }
   ],
   "source": [
    "best_clusters = np.array(list(Si[iteration].keys()))[np.argsort(list(Si[iteration].values()))[0:(iteration+1)*n_collect]]\n",
    "print(\"Best clusters -> \", best_clusters)"
   ]
  },
  {
   "cell_type": "code",
   "execution_count": null,
   "metadata": {},
   "outputs": [],
   "source": []
  },
  {
   "cell_type": "code",
   "execution_count": 171,
   "metadata": {},
   "outputs": [
    {
     "name": "stdout",
     "output_type": "stream",
     "text": [
      "Remaining clusters ->  [1]\n"
     ]
    }
   ],
   "source": [
    "remaining_clusters = np.array(list(set(Si[iteration].keys()).difference(set(best_clusters))))\n",
    "print(\"Remaining clusters -> \", remaining_clusters)"
   ]
  },
  {
   "cell_type": "code",
   "execution_count": 172,
   "metadata": {},
   "outputs": [],
   "source": [
    "center_best_clusters = centers[best_clusters,:]"
   ]
  },
  {
   "cell_type": "code",
   "execution_count": null,
   "metadata": {},
   "outputs": [],
   "source": []
  },
  {
   "cell_type": "code",
   "execution_count": null,
   "metadata": {},
   "outputs": [],
   "source": []
  },
  {
   "cell_type": "markdown",
   "metadata": {},
   "source": [
    "**1.6) Collects observations from the remaining clusters**"
   ]
  },
  {
   "cell_type": "code",
   "execution_count": 173,
   "metadata": {},
   "outputs": [],
   "source": [
    "inds = []\n",
    "for cluster in remaining_clusters:\n",
    "    inds += list(np.where(representative_cluster==cluster)[0])\n",
    "inds = np.squeeze(np.array(inds))\n",
    "\n",
    "dataset_remaining_clusters = dataset[inds,:]"
   ]
  },
  {
   "cell_type": "code",
   "execution_count": null,
   "metadata": {},
   "outputs": [],
   "source": []
  },
  {
   "cell_type": "code",
   "execution_count": 174,
   "metadata": {},
   "outputs": [
    {
     "name": "stdout",
     "output_type": "stream",
     "text": [
      "Optimal number of clusters = 3\n"
     ]
    }
   ],
   "source": [
    "optimal_seed, optimal_nclusters, total_entropies = minimize_membership_entropy(n_clusters_trials, \n",
    "                                                                               dataset_remaining_clusters, \n",
    "                                                                               lamb, \n",
    "                                                                               n_seed=100)\n",
    "print(\"Optimal number of clusters =\", optimal_nclusters)"
   ]
  },
  {
   "cell_type": "code",
   "execution_count": 175,
   "metadata": {},
   "outputs": [],
   "source": [
    "new_centers, p, representative_cluster, Sx, S = run_cluster(optimal_nclusters, \n",
    "                                                            dataset_remaining_clusters,\n",
    "                                                            random_state=optimal_seed)"
   ]
  },
  {
   "cell_type": "code",
   "execution_count": null,
   "metadata": {},
   "outputs": [],
   "source": []
  },
  {
   "cell_type": "code",
   "execution_count": 176,
   "metadata": {},
   "outputs": [],
   "source": [
    "trial_centers = np.vstack((center_best_clusters, new_centers))"
   ]
  },
  {
   "cell_type": "code",
   "execution_count": 177,
   "metadata": {},
   "outputs": [
    {
     "name": "stdout",
     "output_type": "stream",
     "text": [
      "Total membership entropy = 147.77\n"
     ]
    }
   ],
   "source": [
    "centers, p, representative_cluster, Sx, S = run_cluster(trial_centers.shape[0], \n",
    "                                                        dataset, \n",
    "                                                        initial_centers=trial_centers, \n",
    "                                                        random_state=optimal_seed)\n",
    "print(\"Total membership entropy =\", np.round(S, 2))"
   ]
  },
  {
   "cell_type": "code",
   "execution_count": 178,
   "metadata": {},
   "outputs": [
    {
     "data": {
      "image/png": "[encoded data removed]",
      "text/plain": [
       "<Figure size 720x288 with 2 Axes>"
      ]
     },
     "metadata": {
      "needs_background": "light"
     },
     "output_type": "display_data"
    }
   ],
   "source": [
    "optimal_nclusters = centers.shape[0]\n",
    "\n",
    "edgecolors = list()\n",
    "facecolors = list()\n",
    "for i in range(0, optimal_nclusters):\n",
    "    edgecolors.append(make_rgb_transparent(rgb=colormap(1.0*i/(optimal_nclusters-1)), alpha=1))\n",
    "    facecolors.append(make_rgb_transparent(rgb=colormap(1.0*i/(optimal_nclusters-1)), alpha=0.65))\n",
    "    \n",
    "    \n",
    "fig, axes = plt.subplots(1, 2, figsize=(10, 4))\n",
    "\n",
    "color_seq = list()\n",
    "for j in range(0, dataset.shape[0]):\n",
    "    color_seq.append(make_rgb_transparent(edgecolors[representative_cluster[j]], 1-Sx[j]))\n",
    "for i in range(0, optimal_nclusters):\n",
    "    axes[1].scatter([], [], label=str(i), color=edgecolors[i])\n",
    "axes[1].scatter(dataset[:,0], dataset[:,1], marker='.', s=60, edgecolors=(0.6,0.6,0.6,0.5), c=color_seq)\n",
    "\n",
    "axes[1].scatter(centers[:,0], centers[:,1], color=(0.8,0.2,0.2, 0.8), marker=\"v\")\n",
    "\n",
    "axes[1].set_xlabel('X')\n",
    "axes[1].set_ylabel('Y')\n",
    "axes[1].set_xlim(-1.2,1.2)\n",
    "axes[1].set_ylim(-1.2,1.2)\n",
    "axes[1].legend(loc=\"best\")\n",
    "\n",
    "plt.tight_layout()\n",
    "plt.show()"
   ]
  },
  {
   "cell_type": "code",
   "execution_count": null,
   "metadata": {},
   "outputs": [],
   "source": []
  },
  {
   "cell_type": "markdown",
   "metadata": {},
   "source": [
    "Total entropy is smaller than previous minimized entropy. Move to next iteration"
   ]
  },
  {
   "cell_type": "markdown",
   "metadata": {},
   "source": [
    "### Iteration 2"
   ]
  },
  {
   "cell_type": "code",
   "execution_count": 48,
   "metadata": {},
   "outputs": [],
   "source": [
    "iteration += 1"
   ]
  },
  {
   "cell_type": "code",
   "execution_count": 49,
   "metadata": {},
   "outputs": [
    {
     "name": "stdout",
     "output_type": "stream",
     "text": [
      "Mean membership entropy across cluster 0 = 0.047\n",
      "Mean membership entropy across cluster 1 = 0.147\n",
      "Mean membership entropy across cluster 2 = 0.226\n",
      "Mean membership entropy across cluster 3 = 0.054\n",
      "Mean membership entropy across cluster 4 = 0.139\n",
      "Mean membership entropy across cluster 5 = 0.194\n"
     ]
    }
   ],
   "source": [
    "Si.append(calculate_cluster_quality(p, representative_cluster))"
   ]
  },
  {
   "cell_type": "code",
   "execution_count": 50,
   "metadata": {},
   "outputs": [
    {
     "name": "stdout",
     "output_type": "stream",
     "text": [
      "Best clusters ->  [0 3]\n"
     ]
    }
   ],
   "source": [
    "best_clusters = np.array(list(Si[iteration].keys()))[np.argsort(list(Si[iteration].values()))[0:iteration+1]]\n",
    "print(\"Best clusters -> \", best_clusters)"
   ]
  },
  {
   "cell_type": "code",
   "execution_count": 51,
   "metadata": {},
   "outputs": [
    {
     "name": "stdout",
     "output_type": "stream",
     "text": [
      "Remaining clusters ->  [1 2 4 5]\n"
     ]
    }
   ],
   "source": [
    "remaining_clusters = np.array(list(set(Si[iteration].keys()).difference(set(best_clusters))))\n",
    "print(\"Remaining clusters -> \", remaining_clusters)"
   ]
  },
  {
   "cell_type": "code",
   "execution_count": 52,
   "metadata": {},
   "outputs": [],
   "source": [
    "inds = []\n",
    "for cluster in remaining_clusters:\n",
    "    inds += list(np.where(representative_cluster==cluster)[0])\n",
    "inds = np.squeeze(np.array(inds))\n",
    "\n",
    "dataset_remaining_clusters = dataset[inds,:]"
   ]
  },
  {
   "cell_type": "code",
   "execution_count": 53,
   "metadata": {},
   "outputs": [
    {
     "name": "stdout",
     "output_type": "stream",
     "text": [
      "Optimal number of clusters = 6\n"
     ]
    }
   ],
   "source": [
    "optimal_nclusters, total_entropies = minimize_membership_entropy(n_clusters_trials, dataset_remaining_clusters, lamb)\n",
    "print(\"Optimal number of clusters =\", optimal_nclusters)"
   ]
  },
  {
   "cell_type": "code",
   "execution_count": 54,
   "metadata": {},
   "outputs": [
    {
     "data": {
      "text/plain": [
       "False"
      ]
     },
     "execution_count": 54,
     "metadata": {},
     "output_type": "execute_result"
    }
   ],
   "source": [
    "optimal_nclusters == len(remaining_clusters)"
   ]
  },
  {
   "cell_type": "markdown",
   "metadata": {},
   "source": [
    "Optimal number of clusters does not change. Stop the process"
   ]
  },
  {
   "cell_type": "code",
   "execution_count": null,
   "metadata": {},
   "outputs": [],
   "source": []
  },
  {
   "cell_type": "code",
   "execution_count": null,
   "metadata": {},
   "outputs": [],
   "source": []
  },
  {
   "cell_type": "code",
   "execution_count": null,
   "metadata": {},
   "outputs": [],
   "source": []
  },
  {
   "cell_type": "code",
   "execution_count": null,
   "metadata": {},
   "outputs": [],
   "source": []
  },
  {
   "cell_type": "markdown",
   "metadata": {},
   "source": [
    "### Optimal probabilistic clustering algorithm"
   ]
  },
  {
   "cell_type": "code",
   "execution_count": 38,
   "metadata": {},
   "outputs": [],
   "source": [
    "def optimal_cluster(data, lamb=0, max_clusters=10):  \n",
    "    \n",
    "    def recursive_clustering(data, \n",
    "                             best_clusters_observations, \n",
    "                             best_clusters_centers, \n",
    "                             n_clusters, \n",
    "                             Smin, \n",
    "                             i,\n",
    "                             centers, \n",
    "                             p, \n",
    "                             representative_cluster, \n",
    "                             Sx, \n",
    "                             S):\n",
    "        \n",
    "        print(\"Running OPC, iteration\", i+1)\n",
    "        \n",
    "        # selects the observations that are not apart of the best_clusters\n",
    "        inds = np.array(list(set(np.arange(0, data.shape[0], 1)).difference(set(best_clusters_observations))))\n",
    "        data_ = data[inds,:]\n",
    "        \n",
    "        # minimization of membership entropy\n",
    "        n_clusters_trials = np.arange(2, max_clusters, 1)\n",
    "        seed, n_clusters_, total_entropies = minimize_membership_entropy(n_clusters_trials=n_clusters_trials, \n",
    "                                                                  dataset=data_, \n",
    "                                                                  lamb=lamb,\n",
    "                                                                  n_seed=10)\n",
    "        \n",
    "        # Tests if number of cluster has not changed (Stopping condition)\n",
    "        if False and n_clusters == (n_clusters_+i):\n",
    "            return centers, p, representative_cluster, Sx, S\n",
    "        else:\n",
    "            \n",
    "            # Clusters data subset\n",
    "            centers_, _, _, _, _ = run_cluster(n_clusters=n_clusters_, \n",
    "                                               data=data_,\n",
    "                                               random_state=seed)\n",
    "            \n",
    "            # Clusters the entire dataset\n",
    "            centers = np.vstack((best_clusters_centers, centers_))\n",
    "            n_clusters = n_clusters_ + i\n",
    "            _centers, _p, _representative_cluster, _Sx, _S = run_cluster(n_clusters=n_clusters,\n",
    "                                                                         data=data,\n",
    "                                                                         random_state=seed)            \n",
    "            \n",
    "            # Checks the total entropy has decreased\n",
    "            if _S < Smin:\n",
    "                \n",
    "                # Calculates mean intra-cluster entropy\n",
    "                Si = calculate_cluster_quality(_p, _representative_cluster, PRINT=False)\n",
    "                \n",
    "                # Collects the observations belonging to the best i+1 clusters\n",
    "                best_clusters = np.array(list(Si.keys()))[np.argsort(list(Si.values()))[0:i+1]]\n",
    "                inds = np.where(np.in1d(_representative_cluster, best_clusters))[0]\n",
    "                best_clusters_observations = inds\n",
    "                \n",
    "                # Collects the centers of the best clusters\n",
    "                best_clusters_centers = _centers[best_clusters,:]\n",
    "                \n",
    "                # Re-iterates the entire procedure    \n",
    "                return recursive_clustering(data=data, \n",
    "                                            best_clusters_observations=best_clusters_observations, \n",
    "                                            best_clusters_centers=best_clusters_centers,\n",
    "                                            n_clusters=n_clusters, \n",
    "                                            Smin=_S,\n",
    "                                            i=i+1,\n",
    "                                            centers=_centers, \n",
    "                                            p=_p, \n",
    "                                            representative_cluster=_representative_cluster, \n",
    "                                            Sx=_Sx, \n",
    "                                            S=_S)\n",
    "\n",
    "            else:\n",
    "                return centers, p, representative_cluster, Sx, S\n",
    "            \n",
    "    # Initialization\n",
    "    best_clusters_observations = []\n",
    "    best_clusters_centers = np.zeros((0, data.shape[1]))\n",
    "    n_clusters = 1\n",
    "    Smin = data.shape[0]\n",
    "    i = 0  \n",
    "            \n",
    "    #  Initiates the recursive clustering algorithm\n",
    "    centers, p, representative_cluster, Sx, S = recursive_clustering(data=data, \n",
    "                                                                     best_clusters_observations=best_clusters_observations, \n",
    "                                                                     best_clusters_centers=best_clusters_centers,\n",
    "                                                                     n_clusters=n_clusters, \n",
    "                                                                     Smin=Smin, \n",
    "                                                                     i=i,\n",
    "                                                                     centers=None, \n",
    "                                                                     p=None, \n",
    "                                                                     representative_cluster=None, \n",
    "                                                                     Sx=None, \n",
    "                                                                     S=None)\n",
    "                \n",
    "\n",
    "    return centers, p, representative_cluster, Sx, S"
   ]
  },
  {
   "cell_type": "code",
   "execution_count": 44,
   "metadata": {},
   "outputs": [
    {
     "name": "stdout",
     "output_type": "stream",
     "text": [
      "Running OPC, iteration 1\n",
      "Running OPC, iteration 2\n"
     ]
    }
   ],
   "source": [
    "centers, p, representative_cluster, Sx, S = optimal_cluster(data=dataset, \n",
    "                                                            lamb=lamb, \n",
    "                                                            max_clusters=12)\n",
    "\n"
   ]
  },
  {
   "cell_type": "code",
   "execution_count": 43,
   "metadata": {},
   "outputs": [
    {
     "data": {
      "text/plain": [
       "196.23118314946822"
      ]
     },
     "execution_count": 43,
     "metadata": {},
     "output_type": "execute_result"
    }
   ],
   "source": [
    "S"
   ]
  },
  {
   "cell_type": "markdown",
   "metadata": {},
   "source": [
    "**References:**"
   ]
  },
  {
   "cell_type": "markdown",
   "metadata": {},
   "source": [
    "{% bibliography --cited %}"
   ]
  }
 ],
 "metadata": {
  "kernelspec": {
   "display_name": "Python 3",
   "language": "python",
   "name": "python3"
  },
  "language_info": {
   "codemirror_mode": {
    "name": "ipython",
    "version": 3
   },
   "file_extension": ".py",
   "mimetype": "text/x-python",
   "name": "python",
   "nbconvert_exporter": "python",
   "pygments_lexer": "ipython3",
   "version": "3.8.5"
  }
 },
 "nbformat": 4,
 "nbformat_minor": 4
}
