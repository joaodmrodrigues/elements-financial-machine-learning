{
 "cells": [
  {
   "cell_type": "markdown",
   "metadata": {},
   "source": [
    "# Optimal probabilistic clustering - Part II\n",
    "> ...\n",
    "\n",
    "- toc: true\n",
    "- branch: master\n",
    "- badges: true\n",
    "- comments: true\n",
    "- categories: [Clustering, Entropy, Membership Entropy]\n",
    "- image: images/post_image_optimal_clustering.png\n",
    "- hide: false\n",
    "- search_exclude: false\n",
    "- author: Joao Rodrigues"
   ]
  },
  {
   "cell_type": "code",
   "execution_count": 1,
   "metadata": {},
   "outputs": [],
   "source": [
    "######################################## Part I\n",
    "from fcmeans import FCM\n",
    "\n",
    "def run_cluster(n_clusters, features, random_state=42):\n",
    "    # membership probabilities\n",
    "    model = FCM(n_clusters=n_clusters, random_state=random_state, max_iter=1000, error=1e-9).fit(features)\n",
    "    p = model.u\n",
    "    # representative cluster\n",
    "    representative_cluster = np.argmax(p, 1)\n",
    "    # membership entropy\n",
    "    Sx = -np.sum(p*np.log(p), 1) / np.log(n_clusters)\n",
    "    # total membership entropy (across the entire feature space)\n",
    "    S = np.sum(Sx)        \n",
    "    \n",
    "    return p, representative_cluster, Sx, S\n",
    "\n"
   ]
  },
  {
   "cell_type": "markdown",
   "metadata": {},
   "source": [
    "## Experimental results"
   ]
  },
  {
   "cell_type": "code",
   "execution_count": 2,
   "metadata": {},
   "outputs": [],
   "source": [
    "import numpy as np"
   ]
  },
  {
   "cell_type": "markdown",
   "metadata": {},
   "source": [
    "(n,k,m) n observations, k clusters, at least m observations per cluster"
   ]
  },
  {
   "cell_type": "code",
   "execution_count": 3,
   "metadata": {},
   "outputs": [],
   "source": [
    "def construct_random_partition(n, k, m, seed=None):\n",
    "    rand = np.random.RandomState(seed=seed)\n",
    "    parts = rand.choice(range(1, n-k*(m-1)), k-1, replace=False)\n",
    "    parts.sort()\n",
    "    parts = np.append(parts, n-k*(m-1))\n",
    "    parts = np.append(parts[0], np.diff(parts)) - 1 + m\n",
    "    \n",
    "    return parts"
   ]
  },
  {
   "cell_type": "code",
   "execution_count": 4,
   "metadata": {},
   "outputs": [
    {
     "name": "stdout",
     "output_type": "stream",
     "text": [
      "[13 26 22 33  6]\n"
     ]
    }
   ],
   "source": [
    "partition = construct_random_partition(n=100, k=5, m=2, seed=40)\n",
    "print(partition)"
   ]
  },
  {
   "cell_type": "markdown",
   "metadata": {},
   "source": [
    "**Generation of random datasets**"
   ]
  },
  {
   "cell_type": "code",
   "execution_count": 5,
   "metadata": {},
   "outputs": [],
   "source": [
    "def generate_random_dataset(partition, n_features, std, seed):\n",
    "    random_state = np.random.RandomState(seed=seed)\n",
    "    dataset = list()\n",
    "    for n in partition:\n",
    "        # cluster centre coordinates\n",
    "        cluster_centre = random_state.uniform(-1, 1, n_features)\n",
    "        # observation coordinates\n",
    "        for observation in range(0, n):\n",
    "            dataset.append(cluster_centre+std*random_state.standard_normal(n_features))\n",
    "    dataset = np.array(dataset)\n",
    "    # shuffles the observations\n",
    "    dataset = dataset[random_state.permutation(dataset.shape[0]), :]\n",
    "    \n",
    "    return np.array(dataset)"
   ]
  },
  {
   "cell_type": "code",
   "execution_count": 6,
   "metadata": {},
   "outputs": [],
   "source": [
    "dataset = generate_random_dataset(partition=partition, n_features=2, std=0.05, seed=42)"
   ]
  },
  {
   "cell_type": "code",
   "execution_count": 7,
   "metadata": {},
   "outputs": [],
   "source": [
    "n_clusters_trials = np.arange(2, 15, 1)\n",
    "total_entropies = list()\n",
    "for trial in n_clusters_trials:\n",
    "    _, _, _, total_entropy = run_cluster(n_clusters=trial, features=dataset, random_state=20)\n",
    "    total_entropies.append(total_entropy)\n",
    "    "
   ]
  },
  {
   "cell_type": "code",
   "execution_count": 8,
   "metadata": {
    "scrolled": true
   },
   "outputs": [
    {
     "name": "stdout",
     "output_type": "stream",
     "text": [
      "2\n"
     ]
    }
   ],
   "source": [
    "optimal_nclusters = n_clusters_trials[np.argmin(total_entropies)]\n",
    "print(optimal_nclusters)"
   ]
  },
  {
   "cell_type": "code",
   "execution_count": 9,
   "metadata": {},
   "outputs": [],
   "source": [
    "p, representative_cluster, Sx, S = run_cluster(n_clusters=optimal_nclusters, features=dataset)"
   ]
  },
  {
   "cell_type": "markdown",
   "metadata": {},
   "source": [
    "**Cluster quality**"
   ]
  },
  {
   "cell_type": "code",
   "execution_count": 11,
   "metadata": {},
   "outputs": [
    {
     "name": "stdout",
     "output_type": "stream",
     "text": [
      "Mean membership entropy across cluster 0 = 0.149\n",
      "Mean membership entropy across cluster 1 = 0.012\n"
     ]
    }
   ],
   "source": [
    "Si_iter1 = dict()\n",
    "for clust in set(representative_cluster):\n",
    "    probs = p[np.argmax(p, 1)==clust, :]\n",
    "    entropy = -np.sum(probs*np.log(probs), 1) / np.log(probs.shape[1])\n",
    "    Si_iter1.update({clust: np.mean(entropy)})\n",
    "    \n",
    "_=[print(\"Mean membership entropy across cluster {0} = {1}\".format(i, np.round(Si_iter1[i], 3))) for i in Si_iter1.keys()]"
   ]
  },
  {
   "cell_type": "code",
   "execution_count": 12,
   "metadata": {},
   "outputs": [],
   "source": [
    "import matplotlib\n",
    "from matplotlib import cm\n",
    "import matplotlib.pyplot as plt\n",
    "def make_rgb_transparent(rgb, alpha):\n",
    "    bg_rgb = [1, 1, 1]\n",
    "    return [alpha * c1 + (1 - alpha) * c2 for (c1, c2) in zip(rgb, bg_rgb)]\n",
    "colormap = cm.get_cmap('Accent')\n",
    "edgecolors = list()\n",
    "facecolors = list()\n",
    "for i in range(0, optimal_nclusters):\n",
    "    edgecolors.append(make_rgb_transparent(rgb=colormap(1.0*i/(optimal_nclusters-1)), alpha=1))\n",
    "    facecolors.append(make_rgb_transparent(rgb=colormap(1.0*i/(optimal_nclusters-1)), alpha=0.65))"
   ]
  },
  {
   "cell_type": "code",
   "execution_count": 13,
   "metadata": {},
   "outputs": [
    {
     "data": {
      "image/png": "[encoded data removed]",
      "text/plain": [
       "<Figure size 720x288 with 2 Axes>"
      ]
     },
     "metadata": {
      "needs_background": "light"
     },
     "output_type": "display_data"
    }
   ],
   "source": [
    "fig, axes = plt.subplots(1, 2, figsize=(10, 4))\n",
    "\n",
    "axes[0].plot([optimal_nclusters, optimal_nclusters], [0, np.max(total_entropies)], color=(0.8,0.6,0.6), linewidth=2)\n",
    "axes[0].plot(n_clusters_trials, total_entropies, color=(0.46,0.46,0.46), linewidth=2)\n",
    "axes[0].set_xlabel('Number of clusters')\n",
    "axes[0].set_ylabel('Total membership entropy')\n",
    "\n",
    "color_seq = list()\n",
    "for j in range(0, dataset.shape[0]):\n",
    "    color_seq.append(make_rgb_transparent(edgecolors[representative_cluster[j]], 1-Sx[j]))\n",
    "axes[1].scatter(dataset[:,0], dataset[:,1], marker='.', s=60, edgecolors=(0.6,0.6,0.6,0.5), c=color_seq)\n",
    "axes[1].set_xlabel('X')\n",
    "axes[1].set_ylabel('Y')\n",
    "axes[1].set_xlim(-1.2,1.2)\n",
    "axes[1].set_ylim(-1.2,1.2)\n",
    "\n",
    "plt.tight_layout()\n",
    "plt.show()"
   ]
  },
  {
   "cell_type": "markdown",
   "metadata": {},
   "source": []
  },
  {
   "cell_type": "code",
   "execution_count": null,
   "metadata": {},
   "outputs": [],
   "source": []
  },
  {
   "cell_type": "code",
   "execution_count": null,
   "metadata": {},
   "outputs": [],
   "source": []
  },
  {
   "cell_type": "markdown",
   "metadata": {},
   "source": [
    "**Partition dataset**"
   ]
  },
  {
   "cell_type": "code",
   "execution_count": 14,
   "metadata": {},
   "outputs": [
    {
     "data": {
      "text/plain": [
       "array([0])"
      ]
     },
     "execution_count": 14,
     "metadata": {},
     "output_type": "execute_result"
    }
   ],
   "source": [
    "bad_clusters = np.array(list(Si_iter1.keys()))[list(Si_iter1.values()) > np.mean(list(Si_iter1.values()))]\n",
    "bad_clusters"
   ]
  },
  {
   "cell_type": "code",
   "execution_count": 15,
   "metadata": {},
   "outputs": [],
   "source": [
    "inds = []\n",
    "for cluster in bad_clusters:\n",
    "    inds += list(np.where(representative_cluster==cluster)[0])\n",
    "inds = np.squeeze(np.array(inds))"
   ]
  },
  {
   "cell_type": "code",
   "execution_count": 16,
   "metadata": {},
   "outputs": [],
   "source": [
    "dataset = dataset[inds,:]"
   ]
  },
  {
   "cell_type": "markdown",
   "metadata": {},
   "source": [
    "**Repeat clustering on subsample**"
   ]
  },
  {
   "cell_type": "code",
   "execution_count": 17,
   "metadata": {},
   "outputs": [],
   "source": [
    "n_clusters_trials = np.arange(2, 15, 1)\n",
    "total_entropies = list()\n",
    "for trial in n_clusters_trials:\n",
    "    _, _, _, total_entropy = run_cluster(n_clusters=trial, features=dataset, random_state=20)\n",
    "    total_entropies.append(total_entropy)"
   ]
  },
  {
   "cell_type": "code",
   "execution_count": 18,
   "metadata": {},
   "outputs": [
    {
     "name": "stdout",
     "output_type": "stream",
     "text": [
      "4\n"
     ]
    }
   ],
   "source": [
    "optimal_nclusters = n_clusters_trials[np.argmin(total_entropies)]\n",
    "print(optimal_nclusters)"
   ]
  },
  {
   "cell_type": "code",
   "execution_count": 19,
   "metadata": {},
   "outputs": [],
   "source": [
    "p, representative_cluster, Sx, S = run_cluster(n_clusters=optimal_nclusters, features=dataset)"
   ]
  },
  {
   "cell_type": "code",
   "execution_count": 33,
   "metadata": {},
   "outputs": [
    {
     "name": "stdout",
     "output_type": "stream",
     "text": [
      "Mean membership entropy across cluster 0 = 0.073\n",
      "Mean membership entropy across cluster 1 = 0.104\n",
      "Mean membership entropy across cluster 2 = 0.223\n",
      "Mean membership entropy across cluster 3 = 0.263\n"
     ]
    }
   ],
   "source": [
    "Si_iter2 = dict()\n",
    "for clust in set(representative_cluster):\n",
    "    probs = p[np.argmax(p, 1)==clust, :]\n",
    "    entropy = -np.sum(probs*np.log(probs), 1) / np.log(probs.shape[1])\n",
    "    Si_iter2.update({clust: np.mean(entropy)})\n",
    "    \n",
    "_=[print(\"Mean membership entropy across cluster {0} = {1}\".format(i, np.round(Si_iter2[i], 3))) for i in Si_iter2.keys()]"
   ]
  },
  {
   "cell_type": "code",
   "execution_count": 34,
   "metadata": {},
   "outputs": [
    {
     "name": "stdout",
     "output_type": "stream",
     "text": [
      "0.16589962648261908\n"
     ]
    },
    {
     "data": {
      "text/plain": [
       "[0.14913771991069089]"
      ]
     },
     "execution_count": 34,
     "metadata": {},
     "output_type": "execute_result"
    }
   ],
   "source": [
    "score = np.mean(list(Si_iter2.values()))\n",
    "\n",
    "print(score)\n",
    "\n",
    "[Si_iter1[bad_cluster] for bad_cluster in bad_clusters]"
   ]
  },
  {
   "cell_type": "code",
   "execution_count": null,
   "metadata": {},
   "outputs": [],
   "source": []
  },
  {
   "cell_type": "code",
   "execution_count": null,
   "metadata": {},
   "outputs": [],
   "source": []
  },
  {
   "cell_type": "code",
   "execution_count": null,
   "metadata": {},
   "outputs": [],
   "source": []
  },
  {
   "cell_type": "code",
   "execution_count": 35,
   "metadata": {},
   "outputs": [
    {
     "data": {
      "image/png": "[encoded data removed]",
      "text/plain": [
       "<Figure size 720x288 with 2 Axes>"
      ]
     },
     "metadata": {
      "needs_background": "light"
     },
     "output_type": "display_data"
    }
   ],
   "source": [
    "edgecolors = list()\n",
    "facecolors = list()\n",
    "for i in range(0, optimal_nclusters):\n",
    "    edgecolors.append(make_rgb_transparent(rgb=colormap(1.0*i/(optimal_nclusters-1)), alpha=1))\n",
    "    facecolors.append(make_rgb_transparent(rgb=colormap(1.0*i/(optimal_nclusters-1)), alpha=0.65))\n",
    "\n",
    "fig, axes = plt.subplots(1, 2, figsize=(10, 4))\n",
    "\n",
    "axes[0].plot([optimal_nclusters, optimal_nclusters], [0, np.max(total_entropies)], color=(0.8,0.6,0.6), linewidth=2)\n",
    "axes[0].plot(n_clusters_trials, total_entropies, color=(0.46,0.46,0.46), linewidth=2)\n",
    "axes[0].set_xlabel('Number of clusters')\n",
    "axes[0].set_ylabel('Total membership entropy')\n",
    "\n",
    "color_seq = list()\n",
    "for j in range(0, dataset.shape[0]):\n",
    "    color_seq.append(make_rgb_transparent(edgecolors[representative_cluster[j]], 1-Sx[j]))\n",
    "axes[1].scatter(dataset[:,0], dataset[:,1], marker='.', s=60, edgecolors=(0.6,0.6,0.6,0.5), c=color_seq)\n",
    "axes[1].set_xlabel('X')\n",
    "axes[1].set_ylabel('Y')\n",
    "axes[1].set_xlim(-1.2,1.2)\n",
    "axes[1].set_ylim(-1.2,1.2)\n",
    "\n",
    "\n",
    "plt.tight_layout()\n",
    "plt.show()"
   ]
  },
  {
   "cell_type": "code",
   "execution_count": null,
   "metadata": {},
   "outputs": [],
   "source": []
  },
  {
   "cell_type": "markdown",
   "metadata": {},
   "source": [
    "**Resample dataset**:"
   ]
  },
  {
   "cell_type": "code",
   "execution_count": 37,
   "metadata": {},
   "outputs": [
    {
     "data": {
      "text/plain": [
       "array([2, 3])"
      ]
     },
     "execution_count": 37,
     "metadata": {},
     "output_type": "execute_result"
    }
   ],
   "source": [
    "bad_clusters = np.array(list(Si_iter2.keys()))[list(Si_iter2.values()) > np.mean(list(Si_iter2.values()))]\n",
    "bad_clusters"
   ]
  },
  {
   "cell_type": "code",
   "execution_count": 38,
   "metadata": {},
   "outputs": [],
   "source": [
    "inds = []\n",
    "for cluster in bad_clusters:\n",
    "    inds += list(np.where(representative_cluster==cluster)[0])\n",
    "inds = np.squeeze(np.array(inds))"
   ]
  },
  {
   "cell_type": "code",
   "execution_count": 39,
   "metadata": {},
   "outputs": [],
   "source": [
    "dataset = dataset[inds,:]"
   ]
  },
  {
   "cell_type": "markdown",
   "metadata": {},
   "source": [
    "**Repeat process**"
   ]
  },
  {
   "cell_type": "code",
   "execution_count": 50,
   "metadata": {},
   "outputs": [],
   "source": [
    "n_clusters_trials = np.arange(2, 15, 1)\n",
    "total_entropies = list()\n",
    "for trial in n_clusters_trials:\n",
    "    _, _, _, total_entropy = run_cluster(n_clusters=trial, features=dataset, random_state=20)\n",
    "    total_entropies.append(total_entropy)"
   ]
  },
  {
   "cell_type": "code",
   "execution_count": 51,
   "metadata": {},
   "outputs": [
    {
     "name": "stdout",
     "output_type": "stream",
     "text": [
      "2\n"
     ]
    }
   ],
   "source": [
    "optimal_nclusters = n_clusters_trials[np.argmin(total_entropies)]\n",
    "print(optimal_nclusters)"
   ]
  },
  {
   "cell_type": "code",
   "execution_count": 52,
   "metadata": {},
   "outputs": [],
   "source": [
    "p, representative_cluster, Sx, S = run_cluster(n_clusters=optimal_nclusters, features=dataset)"
   ]
  },
  {
   "cell_type": "code",
   "execution_count": 53,
   "metadata": {},
   "outputs": [
    {
     "name": "stdout",
     "output_type": "stream",
     "text": [
      "Mean membership entropy across cluster 0 = 0.406\n",
      "Mean membership entropy across cluster 1 = 0.31\n"
     ]
    }
   ],
   "source": [
    "Si = dict()\n",
    "for clust in set(representative_cluster):\n",
    "    probs = p[np.argmax(p, 1)==clust, :]\n",
    "    entropy = -np.sum(probs*np.log(probs), 1) / np.log(probs.shape[1])\n",
    "    Si.update({clust: np.mean(entropy)})\n",
    "    \n",
    "_=[print(\"Mean membership entropy across cluster {0} = {1}\".format(i, np.round(Si[i], 3))) for i in Si.keys()]"
   ]
  },
  {
   "cell_type": "code",
   "execution_count": 54,
   "metadata": {},
   "outputs": [
    {
     "data": {
      "image/png": "[encoded data removed]",
      "text/plain": [
       "<Figure size 720x288 with 2 Axes>"
      ]
     },
     "metadata": {
      "needs_background": "light"
     },
     "output_type": "display_data"
    }
   ],
   "source": [
    "edgecolors = list()\n",
    "facecolors = list()\n",
    "for i in range(0, optimal_nclusters):\n",
    "    edgecolors.append(make_rgb_transparent(rgb=colormap(1.0*i/(optimal_nclusters-1)), alpha=1))\n",
    "    facecolors.append(make_rgb_transparent(rgb=colormap(1.0*i/(optimal_nclusters-1)), alpha=0.65))\n",
    "\n",
    "fig, axes = plt.subplots(1, 2, figsize=(10, 4))\n",
    "\n",
    "axes[0].plot([optimal_nclusters, optimal_nclusters], [0, np.max(total_entropies)], color=(0.8,0.6,0.6), linewidth=2)\n",
    "axes[0].plot(n_clusters_trials, total_entropies, color=(0.46,0.46,0.46), linewidth=2)\n",
    "axes[0].set_xlabel('Number of clusters')\n",
    "axes[0].set_ylabel('Total membership entropy')\n",
    "\n",
    "color_seq = list()\n",
    "for j in range(0, dataset.shape[0]):\n",
    "    color_seq.append(make_rgb_transparent(edgecolors[representative_cluster[j]], 1-Sx[j]))\n",
    "axes[1].scatter(dataset[:,0], dataset[:,1], marker='.', s=60, edgecolors=(0.6,0.6,0.6,0.5), c=color_seq)\n",
    "axes[1].set_xlabel('X')\n",
    "axes[1].set_ylabel('Y')\n",
    "axes[1].set_xlim(-1.2,1.2)\n",
    "axes[1].set_ylim(-1.2,1.2)\n",
    "\n",
    "plt.tight_layout()\n",
    "plt.show()"
   ]
  },
  {
   "cell_type": "code",
   "execution_count": null,
   "metadata": {},
   "outputs": [],
   "source": []
  },
  {
   "cell_type": "code",
   "execution_count": null,
   "metadata": {},
   "outputs": [],
   "source": []
  },
  {
   "cell_type": "code",
   "execution_count": null,
   "metadata": {},
   "outputs": [],
   "source": []
  },
  {
   "cell_type": "code",
   "execution_count": 99,
   "metadata": {},
   "outputs": [],
   "source": [
    "def d(x,y):\n",
    "    rho = np.corrcoef(x, y)[0,1]\n",
    "    #return np.sqrt(1-np.abs(rho)) \n",
    "    return np.sqrt(0.5*(1-rho))"
   ]
  },
  {
   "cell_type": "code",
   "execution_count": 107,
   "metadata": {},
   "outputs": [],
   "source": [
    "noise = 0.9\n",
    "x1 = np.random.normal(0,1,100000)\n",
    "x2 = x1+noise*np.random.normal(0,1,100000)\n",
    "x3 = (x1+x2)/2"
   ]
  },
  {
   "cell_type": "code",
   "execution_count": 109,
   "metadata": {},
   "outputs": [
    {
     "name": "stdout",
     "output_type": "stream",
     "text": [
      "0.3572698702445935\n",
      "0.2090727907887914\n",
      "0.15409999771790703\n"
     ]
    }
   ],
   "source": [
    "print(d(x1,x2))\n",
    "print(d(x1,x3))\n",
    "print(d(x2,x3))"
   ]
  },
  {
   "cell_type": "code",
   "execution_count": 104,
   "metadata": {},
   "outputs": [
    {
     "data": {
      "image/png": "[encoded data removed]",
      "text/plain": [
       "<Figure size 432x288 with 1 Axes>"
      ]
     },
     "metadata": {
      "needs_background": "light"
     },
     "output_type": "display_data"
    }
   ],
   "source": [
    "plt.plot(x1)\n",
    "plt.plot(x2)\n",
    "plt.plot(x3)\n",
    "plt.show()\n",
    "\n"
   ]
  },
  {
   "cell_type": "code",
   "execution_count": null,
   "metadata": {},
   "outputs": [],
   "source": []
  },
  {
   "cell_type": "markdown",
   "metadata": {},
   "source": [
    "Initialize fcmeans with different seeds the do statistics would probably help\n",
    "\n"
   ]
  },
  {
   "cell_type": "code",
   "execution_count": null,
   "metadata": {},
   "outputs": [],
   "source": []
  },
  {
   "cell_type": "markdown",
   "metadata": {},
   "source": []
  },
  {
   "cell_type": "code",
   "execution_count": null,
   "metadata": {},
   "outputs": [],
   "source": []
  },
  {
   "cell_type": "markdown",
   "metadata": {},
   "source": [
    "**References:**"
   ]
  },
  {
   "cell_type": "markdown",
   "metadata": {},
   "source": [
    "{% bibliography --cited %}"
   ]
  }
 ],
 "metadata": {
  "kernelspec": {
   "display_name": "Python 3",
   "language": "python",
   "name": "python3"
  },
  "language_info": {
   "codemirror_mode": {
    "name": "ipython",
    "version": 3
   },
   "file_extension": ".py",
   "mimetype": "text/x-python",
   "name": "python",
   "nbconvert_exporter": "python",
   "pygments_lexer": "ipython3",
   "version": "3.8.5"
  }
 },
 "nbformat": 4,
 "nbformat_minor": 4
}
