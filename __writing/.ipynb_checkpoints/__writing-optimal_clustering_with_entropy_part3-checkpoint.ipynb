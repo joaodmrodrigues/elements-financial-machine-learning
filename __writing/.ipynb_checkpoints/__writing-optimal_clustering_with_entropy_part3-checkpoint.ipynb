{
 "cells": [
  {
   "cell_type": "markdown",
   "metadata": {},
   "source": [
    "# Optimal feature clustering - Part III\n",
    "> Feature clustering finds several applications in finance: portfolio construction, feature selection, regime detection, etc. In part I of this series,\n",
    "\n",
    "- toc: true\n",
    "- branch: master\n",
    "- badges: true\n",
    "- comments: true\n",
    "- categories: [Clustering, Entropy, Membership Entropy, Feature Selection, Variation of Information, Correlation Distance]\n",
    "- image: images/post_image_optimal_clustering.png\n",
    "- hide: false\n",
    "- search_exclude: false\n",
    "- author: Joao Rodrigues"
   ]
  },
  {
   "cell_type": "code",
   "execution_count": 155,
   "metadata": {},
   "outputs": [],
   "source": [
    "######################################## Part I\n",
    "from fcmeans import FCM\n",
    "\n",
    "def cluster(n_clusters, features):\n",
    "    # membership probabilities\n",
    "    model = FCM(n_clusters=n_clusters).fit(features)\n",
    "    p = model.u\n",
    "    # representative cluster\n",
    "    representative_cluster = np.argmax(p, 1)\n",
    "    # membership entropy\n",
    "    Sx = -np.sum(p*np.log(p), 1) / np.log(n_clusters)\n",
    "    # total membership entropy (across the entire feature space)\n",
    "    S = np.sum(Sx)        \n",
    "    \n",
    "    #\n",
    "    #\n",
    "    #\n",
    "    #\n",
    "    #\n",
    "    #\n",
    "    #\n",
    "    # sum mean membership entropy per cluters\n",
    "    #Si = 0\n",
    "    #for cluster in set(representative_cluster):\n",
    "    #    probs = p[np.argmax(p, 1)==cluster, :]\n",
    "    #    entropy = -np.sum(probs*np.log(probs), 1) / np.log(probs.shape[1])\n",
    "    #    Si += np.mean(entropy)\n",
    "    #S = Si\n",
    "    \n",
    "    \n",
    "    \n",
    "    return p, representative_cluster, Sx, S\n",
    "\n",
    "######################################## Part II\n",
    "def calculate_corr_distance_1side(X, Y):\n",
    "    rho = np.corrcoef(np.array((X, Y)))[0,1]\n",
    "    distance = np.sqrt(1-np.abs(rho))\n",
    "    return distance\n",
    "\n",
    "def calculate_entropy(X):\n",
    "    # 1) Histograms the samples\n",
    "    nbins = int(len(X)**(1/3))\n",
    "    p = np.histogram(X, bins=nbins, density=False)[0]\n",
    "    p = p/np.sum(p)+1e-6    \n",
    "    # 2) Calculates the entropy\n",
    "    entropy = -np.sum(p*np.log2(p))\n",
    "    \n",
    "    return entropy\n",
    "\n",
    "def calculate_joint_entropy(X, Y):\n",
    "    # 1) Histograms the samples\n",
    "    nbins = int(len(X)**(1/3))\n",
    "    p = np.histogram2d(X, Y, bins=nbins, density=False)[0]\n",
    "    p = p/np.sum(p)+1e-6\n",
    "    # 2) Calculates the entropy\n",
    "    entropy = -np.sum(p*np.log2(p))\n",
    "    \n",
    "    return entropy\n",
    "\n",
    "def calculate_mutual_information(X, Y):\n",
    "    S_X = calculate_entropy(X)\n",
    "    S_Y = calculate_entropy(Y)\n",
    "    S_XY = calculate_joint_entropy(X, Y)\n",
    "    I = S_X+S_Y-S_XY\n",
    "    return I\n",
    "\n",
    "def calculate_variation_of_information(X, Y):\n",
    "    I = calculate_mutual_information(X, Y)\n",
    "    S = calculate_joint_entropy(X, Y)\n",
    "    distance = 1 - I/S\n",
    "    \n",
    "    return distance"
   ]
  },
  {
   "cell_type": "markdown",
   "metadata": {},
   "source": [
    "## Experimental results"
   ]
  },
  {
   "cell_type": "code",
   "execution_count": 156,
   "metadata": {},
   "outputs": [],
   "source": [
    "import numpy as np"
   ]
  },
  {
   "cell_type": "markdown",
   "metadata": {},
   "source": [
    "(n,k,m) n features, k clusters, at least m features per cluster"
   ]
  },
  {
   "cell_type": "code",
   "execution_count": 157,
   "metadata": {},
   "outputs": [],
   "source": [
    "def construct_random_partition(n, k, m, seed=None):\n",
    "    rand = np.random.RandomState(seed=seed)\n",
    "    parts = rand.choice(range(1, n-k*(m-1)), k-1, replace=False)\n",
    "    parts.sort()\n",
    "    parts = np.append(parts, n-k*(m-1))\n",
    "    parts = np.append(parts[0], np.diff(parts)) - 1 + m\n",
    "    \n",
    "    return parts"
   ]
  },
  {
   "cell_type": "code",
   "execution_count": 158,
   "metadata": {},
   "outputs": [
    {
     "name": "stdout",
     "output_type": "stream",
     "text": [
      "[3 2 3 2]\n"
     ]
    }
   ],
   "source": [
    "out = construct_random_partition(n=10, k=4, m=2, seed=42)\n",
    "print(out)"
   ]
  },
  {
   "cell_type": "markdown",
   "metadata": {},
   "source": [
    "Generates datasets"
   ]
  },
  {
   "cell_type": "code",
   "execution_count": 168,
   "metadata": {},
   "outputs": [],
   "source": [
    "from scipy.stats import norm\n",
    "\n",
    "n = 100\n",
    "k = 5\n",
    "m = 2\n",
    "\n",
    "n_observations = 10000\n",
    "sigma = 0.1\n",
    "\n",
    "def generate_realization(n, k, m, n_observations, sigma, seed=None):\n",
    "    dataset = list()\n",
    "    partition = construct_random_partition(n=n, k=k, m=m, seed=seed)\n",
    "    for value in partition:\n",
    "        base_sample = norm.rvs(size=(1, n_observations))[0,:]\n",
    "        [dataset.append(base_sample+sigma*norm.rvs(size=(1, n_observations))[0,:]) for i in range(0, value)]\n",
    "    return np.transpose(np.array(dataset))\n",
    "        \n",
    "        \n",
    "        \n",
    "    "
   ]
  },
  {
   "cell_type": "code",
   "execution_count": 169,
   "metadata": {},
   "outputs": [],
   "source": [
    "dataset = generate_realization(n=n, k=k, m=m, n_observations=n_observations, sigma=sigma, seed=40)"
   ]
  },
  {
   "cell_type": "code",
   "execution_count": 170,
   "metadata": {},
   "outputs": [],
   "source": [
    "import pandas as pd\n",
    "\n",
    "\n",
    "\n",
    "\n",
    "\n",
    "\n",
    "def calculate_distance_matrices(dataset):\n",
    "    n = dataset.shape[1]\n",
    "    distance_corr_1side = np.zeros((n, n))\n",
    "    distance_variation_of_info = np.zeros((n, n))\n",
    "    for i in range(0, n):\n",
    "        for j in range(0, n):\n",
    "            distance_corr_1side[i,j] = calculate_corr_distance_1side(X=dataset[:,i], Y=dataset[:,j])\n",
    "            distance_variation_of_info[i,j] = calculate_variation_of_information(X=dataset[:,i], Y=dataset[:,j])\n",
    "    return (distance_corr_1side, distance_variation_of_info)\n",
    "\n",
    "                                                                    \n"
   ]
  },
  {
   "cell_type": "code",
   "execution_count": 171,
   "metadata": {},
   "outputs": [],
   "source": [
    "correlation_matrix = pd.DataFrame(dataset).corr()\n",
    "correlation_distance_matrix, variation_info_distance_matrix = calculate_distance_matrices(dataset)"
   ]
  },
  {
   "cell_type": "code",
   "execution_count": null,
   "metadata": {},
   "outputs": [],
   "source": []
  },
  {
   "cell_type": "code",
   "execution_count": null,
   "metadata": {},
   "outputs": [],
   "source": []
  },
  {
   "cell_type": "code",
   "execution_count": 172,
   "metadata": {},
   "outputs": [
    {
     "data": {
      "image/png": "[encoded data removed]",
      "text/plain": [
       "<Figure size 1008x288 with 3 Axes>"
      ]
     },
     "metadata": {
      "needs_background": "light"
     },
     "output_type": "display_data"
    }
   ],
   "source": [
    "import matplotlib.pyplot as plt\n",
    "\n",
    "fig, axes = plt.subplots(1, 3, figsize=(14, 4))\n",
    "\n",
    "axes[0].pcolor(correlation_matrix)\n",
    "#axes[0].colorbar()\n",
    "axes[1].pcolor(correlation_distance_matrix)\n",
    "#axes[1].colorbar()\n",
    "axes[2].pcolor(variation_info_distance_matrix)\n",
    "#axes[1].colorbar()\n",
    "plt.show()"
   ]
  },
  {
   "cell_type": "markdown",
   "metadata": {},
   "source": [
    "### Dimensionality reduction"
   ]
  },
  {
   "cell_type": "code",
   "execution_count": 173,
   "metadata": {},
   "outputs": [],
   "source": [
    "from sklearn.decomposition import PCA\n",
    "\n",
    "pca = PCA(n_components=10)\n",
    "pca.fit(correlation_distance_matrix)\n",
    "\n",
    "explained_variance_ratio = pca.explained_variance_ratio_\n"
   ]
  },
  {
   "cell_type": "code",
   "execution_count": 174,
   "metadata": {},
   "outputs": [],
   "source": [
    "DIMENSIONALITY_REDUCTION = True\n",
    "\n",
    "if DIMENSIONALITY_REDUCTION:\n",
    "    observation_matrix = PCA(n_components=3).fit_transform(correlation_distance_matrix)\n",
    "else:\n",
    "    observation_matrix = correlation_distance_matrix"
   ]
  },
  {
   "cell_type": "code",
   "execution_count": 175,
   "metadata": {},
   "outputs": [],
   "source": [
    "n_clusters_trials = np.arange(2, 15, 1)\n",
    "total_entropies = list()\n",
    "for trial in n_clusters_trials:\n",
    "    _, _, _, total_entropy = cluster(n_clusters=trial, features=observation_matrix)\n",
    "    total_entropies.append(total_entropy)"
   ]
  },
  {
   "cell_type": "code",
   "execution_count": 176,
   "metadata": {},
   "outputs": [
    {
     "data": {
      "image/png": "[encoded data removed]",
      "text/plain": [
       "<Figure size 1008x288 with 3 Axes>"
      ]
     },
     "metadata": {
      "needs_background": "light"
     },
     "output_type": "display_data"
    }
   ],
   "source": [
    "fig, axes = plt.subplots(1, 3, figsize=(14, 4))\n",
    "\n",
    "\n",
    "axes[0].plot(np.linspace(1,10,10), np.cumsum(explained_variance_ratio), color=(0.8,0.2,0.2,0.5), linewidth=2)\n",
    "axes[0].plot([3,3], [0,1], color=(0.2,0.2,0.8,0.5))\n",
    "axes[0].set_yscale(\"log\")\n",
    "\n",
    "axes[1].plot(observation_matrix[:,0], observation_matrix[:,1], '.', color=(0.8,0.5,0.5,0.5))\n",
    "\n",
    "axes[2].plot([5, 5], [0, np.max(total_entropies)], color=(0.8,0.6,0.6), linewidth=2)\n",
    "axes[2].plot(n_clusters_trials, total_entropies, color=(0.46,0.46,0.46), linewidth=2)\n",
    "axes[2].set_xlabel('Number of clusters', )\n",
    "axes[2].set_ylabel('Total membership entropy')\n",
    "\n",
    "plt.tight_layout()\n",
    "plt.show()"
   ]
  },
  {
   "cell_type": "markdown",
   "metadata": {},
   "source": [
    "print(n, k, m)"
   ]
  },
  {
   "cell_type": "code",
   "execution_count": null,
   "metadata": {},
   "outputs": [],
   "source": []
  },
  {
   "cell_type": "code",
   "execution_count": null,
   "metadata": {},
   "outputs": [],
   "source": []
  },
  {
   "cell_type": "markdown",
   "metadata": {},
   "source": [
    "Initialize fcmeans with different seeds the do statistics would probably help"
   ]
  },
  {
   "cell_type": "code",
   "execution_count": null,
   "metadata": {},
   "outputs": [],
   "source": []
  },
  {
   "cell_type": "markdown",
   "metadata": {},
   "source": [
    "Important observation:\n",
    "\n",
    "In the case of linear relationships, PCA can be used (taking the dataset as input) and a way to discover the number of clusters, which will be the number of relevant principal components"
   ]
  },
  {
   "cell_type": "code",
   "execution_count": null,
   "metadata": {},
   "outputs": [],
   "source": []
  },
  {
   "cell_type": "markdown",
   "metadata": {},
   "source": [
    "**References:**"
   ]
  },
  {
   "cell_type": "markdown",
   "metadata": {},
   "source": [
    "{% bibliography --cited %}"
   ]
  }
 ],
 "metadata": {
  "kernelspec": {
   "display_name": "Python 3",
   "language": "python",
   "name": "python3"
  },
  "language_info": {
   "codemirror_mode": {
    "name": "ipython",
    "version": 3
   },
   "file_extension": ".py",
   "mimetype": "text/x-python",
   "name": "python",
   "nbconvert_exporter": "python",
   "pygments_lexer": "ipython3",
   "version": "3.8.5"
  }
 },
 "nbformat": 4,
 "nbformat_minor": 4
}
