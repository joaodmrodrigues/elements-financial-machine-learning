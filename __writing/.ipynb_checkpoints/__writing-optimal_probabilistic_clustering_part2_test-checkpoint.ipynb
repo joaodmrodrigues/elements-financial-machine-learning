{
 "cells": [
  {
   "cell_type": "markdown",
   "metadata": {},
   "source": [
    "# Optimal probabilistic clustering - Part II\n",
    "> ...\n",
    "\n",
    "- toc: true\n",
    "- branch: master\n",
    "- badges: true\n",
    "- comments: true\n",
    "- categories: [Clustering, Entropy, Membership Entropy]\n",
    "- image: images/post_image_optimal_clustering.png\n",
    "- hide: false\n",
    "- search_exclude: false\n",
    "- author: Joao Rodrigues"
   ]
  },
  {
   "cell_type": "code",
   "execution_count": null,
   "metadata": {},
   "outputs": [],
   "source": []
  },
  {
   "cell_type": "code",
   "execution_count": 24,
   "metadata": {},
   "outputs": [],
   "source": [
    "import numpy as np\n",
    "from scipy.linalg import norm\n",
    "from scipy.spatial.distance import cdist\n",
    "\n",
    "class OPC:\n",
    "    def __init__(self, n_clusters=10, max_iter=150, m=2, error=1e-5, random_state=42):\n",
    "        self.u, self.centers = None, None\n",
    "        self.n_clusters = n_clusters\n",
    "        self.max_iter = max_iter\n",
    "        self.m = m\n",
    "        self.error = error\n",
    "        self.random_state = random_state\n",
    "\n",
    "    def fit(self, X, initial_centers=None):\n",
    "        N = X.shape[0]\n",
    "        C = self.n_clusters\n",
    "        centers = initial_centers\n",
    "\n",
    "        # u = np.random.dirichlet(np.ones(C), size=N)\n",
    "        r = np.random.RandomState(self.random_state)\n",
    "        u = r.rand(N,C)\n",
    "        u = u / np.tile(u.sum(axis=1)[np.newaxis].T,C)\n",
    "\n",
    "        iteration = 0\n",
    "        while iteration < self.max_iter:\n",
    "            u2 = u.copy()\n",
    "            \n",
    "            if iteration==0 and not centers is None:\n",
    "                centers = centers\n",
    "                print(centers.shape)\n",
    "                print(\"-------------------------------------------\")\n",
    "            else:\n",
    "                centers = self.next_centers(X, u)\n",
    "                \n",
    "            u = self.next_u(X, centers)\n",
    "            iteration += 1\n",
    "\n",
    "            # Stopping rule\n",
    "            if norm(u - u2) < self.error:\n",
    "                break\n",
    "\n",
    "        self.u = u\n",
    "        self.centers = centers\n",
    "        return self\n",
    "\n",
    "    def next_centers(self, X, u):\n",
    "        um = u ** self.m\n",
    "        return (X.T @ um / np.sum(um, axis=0)).T\n",
    "\n",
    "    def next_u(self, X, centers):\n",
    "        return self._predict(X, centers)\n",
    "\n",
    "    def _predict(self, X, centers):\n",
    "        power = float(2 / (self.m - 1))\n",
    "        temp = cdist(X, centers) ** power\n",
    "        denominator_ = temp.reshape((X.shape[0], 1, -1)).repeat(temp.shape[-1], axis=1)\n",
    "        denominator_ = temp[:, :, np.newaxis] / denominator_\n",
    "\n",
    "        return 1 / denominator_.sum(2)\n",
    "\n",
    "    def predict(self, X):\n",
    "        if len(X.shape) == 1:\n",
    "            X = np.expand_dims(X, axis=0)\n",
    "\n",
    "        u = self._predict(X, self.centers)\n",
    "        return np.argmax(u, axis=-1)"
   ]
  },
  {
   "cell_type": "code",
   "execution_count": null,
   "metadata": {},
   "outputs": [],
   "source": []
  },
  {
   "cell_type": "code",
   "execution_count": 25,
   "metadata": {},
   "outputs": [],
   "source": [
    "######################################## Part I\n",
    "#from fcmeans import FCM\n",
    "\n",
    "def run_cluster(n_clusters, features, initial_centers=None, random_state=42):\n",
    "    # membership probabilities\n",
    "    model = OPC(n_clusters=n_clusters, random_state=random_state, max_iter=1000, error=1e-9)\n",
    "    model = model.fit(features, initial_centers=initial_centers)\n",
    "    p = model.u\n",
    "    centers = model.centers\n",
    "    # representative cluster\n",
    "    representative_cluster = np.argmax(p, 1)\n",
    "    # membership entropy\n",
    "    Sx = -np.sum(p*np.log(p), 1) / np.log(n_clusters)\n",
    "    # total membership entropy (across the entire feature space)\n",
    "    S = np.sum(Sx)        \n",
    "    \n",
    "    return centers, p, representative_cluster, Sx, S\n",
    "\n"
   ]
  },
  {
   "cell_type": "code",
   "execution_count": null,
   "metadata": {},
   "outputs": [],
   "source": []
  },
  {
   "cell_type": "markdown",
   "metadata": {},
   "source": [
    "Check if I'm introducing a regularization in inferring the optimal number of clusters"
   ]
  },
  {
   "cell_type": "code",
   "execution_count": 26,
   "metadata": {},
   "outputs": [],
   "source": [
    "regularization = 1.0"
   ]
  },
  {
   "cell_type": "code",
   "execution_count": null,
   "metadata": {},
   "outputs": [],
   "source": []
  },
  {
   "cell_type": "markdown",
   "metadata": {},
   "source": [
    "## Experimental results"
   ]
  },
  {
   "cell_type": "code",
   "execution_count": 27,
   "metadata": {},
   "outputs": [],
   "source": [
    "import numpy as np"
   ]
  },
  {
   "cell_type": "markdown",
   "metadata": {},
   "source": [
    "(n,k,m) n observations, k clusters, at least m observations per cluster"
   ]
  },
  {
   "cell_type": "code",
   "execution_count": 28,
   "metadata": {},
   "outputs": [],
   "source": [
    "def construct_random_partition(n, k, m, seed=None):\n",
    "    rand = np.random.RandomState(seed=seed)\n",
    "    parts = rand.choice(range(1, n-k*(m-1)), k-1, replace=False)\n",
    "    parts.sort()\n",
    "    parts = np.append(parts, n-k*(m-1))\n",
    "    parts = np.append(parts[0], np.diff(parts)) - 1 + m\n",
    "    \n",
    "    return parts"
   ]
  },
  {
   "cell_type": "code",
   "execution_count": 29,
   "metadata": {},
   "outputs": [
    {
     "name": "stdout",
     "output_type": "stream",
     "text": [
      "[ 7 31 62 21 79]\n"
     ]
    }
   ],
   "source": [
    "partition = construct_random_partition(n=200, k=5, m=2, seed=40)\n",
    "print(partition)"
   ]
  },
  {
   "cell_type": "markdown",
   "metadata": {},
   "source": [
    "**Generation of random datasets**"
   ]
  },
  {
   "cell_type": "code",
   "execution_count": 30,
   "metadata": {},
   "outputs": [],
   "source": [
    "def generate_random_dataset(partition, n_features, std, seed):\n",
    "    random_state = np.random.RandomState(seed=seed)\n",
    "    dataset = list()\n",
    "    for n in partition:\n",
    "        # cluster centre coordinates\n",
    "        cluster_centre = random_state.uniform(-1, 1, n_features)\n",
    "        # observation coordinates\n",
    "        for observation in range(0, n):\n",
    "            dataset.append(cluster_centre+std*random_state.standard_normal(n_features))\n",
    "    dataset = np.array(dataset)\n",
    "    # shuffles the observations\n",
    "    dataset = dataset[random_state.permutation(dataset.shape[0]), :]\n",
    "    \n",
    "    return np.array(dataset)"
   ]
  },
  {
   "cell_type": "code",
   "execution_count": 31,
   "metadata": {},
   "outputs": [],
   "source": [
    "dataset = generate_random_dataset(partition=partition, n_features=2, std=0.05, seed=42)"
   ]
  },
  {
   "cell_type": "markdown",
   "metadata": {},
   "source": [
    "We will, at each iteration, collect the mean-intracluster entropy"
   ]
  },
  {
   "cell_type": "code",
   "execution_count": 32,
   "metadata": {},
   "outputs": [],
   "source": [
    "Si = list()\n",
    "iteration = 0\n",
    "centers = None\n",
    "n_clusters_trials = np.arange(2, 10, 1)"
   ]
  },
  {
   "cell_type": "markdown",
   "metadata": {},
   "source": [
    "Some helpful functions"
   ]
  },
  {
   "cell_type": "code",
   "execution_count": 45,
   "metadata": {},
   "outputs": [],
   "source": [
    "### Minimization of membership entropy\n",
    "def minimize_membership_entropy(n_clusters_trials, dataset, regularization=0, random_state=42):\n",
    "    total_entropies = list()\n",
    "    for trial in n_clusters_trials:\n",
    "        _, _, _, _, total_entropy = run_cluster(n_clusters=trial, \n",
    "                                                features=dataset, \n",
    "                                                random_state=random_state)\n",
    "        total_entropies.append(total_entropy+regularization*trial)\n",
    "        \n",
    "    optimal_nclusters = n_clusters_trials[np.argmin(total_entropies)]\n",
    "    \n",
    "    return optimal_nclusters, total_entropies\n",
    "    \n",
    "    \n",
    "### Cluster quality\n",
    "def calculate_cluster_quality(p, representative_cluster, PRINT=True):\n",
    "    Si = dict()\n",
    "    for clust in set(representative_cluster):\n",
    "        probs = p[np.argmax(p, 1)==clust, :]\n",
    "        entropy = -np.sum(probs*np.log(probs), 1) / np.log(probs.shape[1])\n",
    "        Si.update({clust: np.mean(entropy)})\n",
    "\n",
    "    if PRINT:\n",
    "        [print(\"Mean membership entropy across cluster {0} = {1}\".format(i, np.round(Si[i], 3))) for i in Si.keys()]\n",
    "        \n",
    "    return Si"
   ]
  },
  {
   "cell_type": "markdown",
   "metadata": {},
   "source": [
    "### Iteration 1"
   ]
  },
  {
   "cell_type": "markdown",
   "metadata": {},
   "source": [
    "**1.1) Minimization of membership entropy**"
   ]
  },
  {
   "cell_type": "code",
   "execution_count": 46,
   "metadata": {
    "scrolled": true
   },
   "outputs": [
    {
     "name": "stdout",
     "output_type": "stream",
     "text": [
      "Optimal number of clusters = 4\n"
     ]
    }
   ],
   "source": [
    "optimal_nclusters, total_entropies = minimize_membership_entropy(n_clusters_trials, dataset, regularization)\n",
    "print(\"Optimal number of clusters =\", optimal_nclusters)"
   ]
  },
  {
   "cell_type": "markdown",
   "metadata": {},
   "source": [
    "**1.2) Clustering**"
   ]
  },
  {
   "cell_type": "code",
   "execution_count": 47,
   "metadata": {},
   "outputs": [],
   "source": [
    "centers, p, representative_cluster, Sx, S = run_cluster(optimal_nclusters, dataset)"
   ]
  },
  {
   "cell_type": "markdown",
   "metadata": {},
   "source": [
    "**1.3) Cluster quality**"
   ]
  },
  {
   "cell_type": "code",
   "execution_count": 48,
   "metadata": {},
   "outputs": [
    {
     "name": "stdout",
     "output_type": "stream",
     "text": [
      "Mean membership entropy across cluster 0 = 0.293\n",
      "Mean membership entropy across cluster 1 = 0.181\n",
      "Mean membership entropy across cluster 2 = 0.172\n",
      "Mean membership entropy across cluster 3 = 0.106\n"
     ]
    }
   ],
   "source": [
    "Si.append(calculate_cluster_quality(p, representative_cluster))"
   ]
  },
  {
   "cell_type": "markdown",
   "metadata": {},
   "source": [
    "**1.4) Plot**"
   ]
  },
  {
   "cell_type": "code",
   "execution_count": 49,
   "metadata": {},
   "outputs": [],
   "source": [
    "import matplotlib\n",
    "from matplotlib import cm\n",
    "import matplotlib.pyplot as plt\n",
    "\n",
    "def make_rgb_transparent(rgb, alpha):\n",
    "    bg_rgb = [1, 1, 1]\n",
    "    return [alpha * c1 + (1 - alpha) * c2 for (c1, c2) in zip(rgb, bg_rgb)]\n",
    "colormap = cm.get_cmap('Accent')\n",
    "\n",
    "edgecolors = list()\n",
    "facecolors = list()\n",
    "for i in range(0, optimal_nclusters):\n",
    "    edgecolors.append(make_rgb_transparent(rgb=colormap(1.0*i/(optimal_nclusters-1)), alpha=1))\n",
    "    facecolors.append(make_rgb_transparent(rgb=colormap(1.0*i/(optimal_nclusters-1)), alpha=0.65))"
   ]
  },
  {
   "cell_type": "code",
   "execution_count": 50,
   "metadata": {},
   "outputs": [
    {
     "data": {
      "image/png": "[encoded data removed]",
      "text/plain": [
       "<Figure size 720x288 with 2 Axes>"
      ]
     },
     "metadata": {
      "needs_background": "light"
     },
     "output_type": "display_data"
    }
   ],
   "source": [
    "fig, axes = plt.subplots(1, 2, figsize=(10, 4))\n",
    "\n",
    "axes[0].plot([optimal_nclusters, optimal_nclusters], [0, np.max(total_entropies)], color=(0.8,0.6,0.6), linewidth=2)\n",
    "axes[0].plot(n_clusters_trials, total_entropies, color=(0.46,0.46,0.46), linewidth=2)\n",
    "axes[0].set_xlabel('Number of clusters')\n",
    "axes[0].set_ylabel('Total membership entropy')\n",
    "\n",
    "color_seq = list()\n",
    "for j in range(0, dataset.shape[0]):\n",
    "    color_seq.append(make_rgb_transparent(edgecolors[representative_cluster[j]], 1-Sx[j]))\n",
    "for i in range(0, optimal_nclusters):\n",
    "    axes[1].scatter([], [], label=str(i), color=edgecolors[i])\n",
    "axes[1].scatter(dataset[:,0], dataset[:,1], marker='.', s=60, edgecolors=(0.6,0.6,0.6,0.5), c=color_seq)\n",
    "axes[1].scatter(centers[:,0], centers[:,1], color=(0.8,0.2,0.2, 0.8), marker=\"v\")\n",
    "axes[1].set_xlabel('X')\n",
    "axes[1].set_ylabel('Y')\n",
    "axes[1].set_xlim(-1.2,1.2)\n",
    "axes[1].set_ylim(-1.2,1.2)\n",
    "axes[1].legend(loc=\"best\")\n",
    "\n",
    "plt.tight_layout()\n",
    "plt.show()"
   ]
  },
  {
   "cell_type": "markdown",
   "metadata": {},
   "source": [
    "**1.5) Finds clusters with an below-average mean membership entropy**"
   ]
  },
  {
   "cell_type": "code",
   "execution_count": 51,
   "metadata": {},
   "outputs": [
    {
     "name": "stdout",
     "output_type": "stream",
     "text": [
      "Intra-cluster mean membership entropy\n"
     ]
    },
    {
     "data": {
      "text/plain": [
       "{0: 0.292591797354482,\n",
       " 1: 0.18091620784925808,\n",
       " 2: 0.1722586909262304,\n",
       " 3: 0.10637422539365307}"
      ]
     },
     "execution_count": 51,
     "metadata": {},
     "output_type": "execute_result"
    }
   ],
   "source": [
    "print(\"Intra-cluster mean membership entropy\")\n",
    "Si[iteration]"
   ]
  },
  {
   "cell_type": "code",
   "execution_count": 52,
   "metadata": {},
   "outputs": [
    {
     "name": "stdout",
     "output_type": "stream",
     "text": [
      "Clusters with above-average membership entropy\n"
     ]
    },
    {
     "data": {
      "text/plain": [
       "array([0])"
      ]
     },
     "execution_count": 52,
     "metadata": {},
     "output_type": "execute_result"
    }
   ],
   "source": [
    "bad_clusters = np.array(list(Si[iteration].keys()))[list(Si[iteration].values()) > np.mean(list(Si[iteration].values()))]\n",
    "print(\"Clusters with above-average membership entropy\")\n",
    "bad_clusters"
   ]
  },
  {
   "cell_type": "code",
   "execution_count": 53,
   "metadata": {},
   "outputs": [
    {
     "data": {
      "text/plain": [
       "array([1, 2, 3])"
      ]
     },
     "execution_count": 53,
     "metadata": {},
     "output_type": "execute_result"
    }
   ],
   "source": [
    "good_clusters = np.array(list(set(Si[iteration].keys()).difference(set(bad_clusters))))\n",
    "good_clusters"
   ]
  },
  {
   "cell_type": "code",
   "execution_count": 54,
   "metadata": {},
   "outputs": [],
   "source": [
    "centers_good_clusters = centers[good_clusters,:]"
   ]
  },
  {
   "cell_type": "code",
   "execution_count": null,
   "metadata": {},
   "outputs": [],
   "source": []
  },
  {
   "cell_type": "code",
   "execution_count": null,
   "metadata": {},
   "outputs": [],
   "source": []
  },
  {
   "cell_type": "markdown",
   "metadata": {},
   "source": [
    "**1.6) Collects observations in the above selected clusters**"
   ]
  },
  {
   "cell_type": "code",
   "execution_count": 55,
   "metadata": {},
   "outputs": [],
   "source": [
    "inds = []\n",
    "for cluster in bad_clusters:\n",
    "    inds += list(np.where(representative_cluster==cluster)[0])\n",
    "inds = np.squeeze(np.array(inds))\n",
    "\n",
    "dataset_bad_clusters = dataset[inds,:]"
   ]
  },
  {
   "cell_type": "code",
   "execution_count": null,
   "metadata": {},
   "outputs": [],
   "source": []
  },
  {
   "cell_type": "code",
   "execution_count": 56,
   "metadata": {},
   "outputs": [
    {
     "name": "stdout",
     "output_type": "stream",
     "text": [
      "Optimal number of clusters = 2\n"
     ]
    }
   ],
   "source": [
    "optimal_nclusters, total_entropies = minimize_membership_entropy(n_clusters_trials, dataset_bad_clusters, regularization)\n",
    "print(\"Optimal number of clusters =\", optimal_nclusters)"
   ]
  },
  {
   "cell_type": "code",
   "execution_count": 57,
   "metadata": {},
   "outputs": [],
   "source": [
    "new_centers, p, representative_cluster, Sx, S = run_cluster(optimal_nclusters, dataset)"
   ]
  },
  {
   "cell_type": "code",
   "execution_count": null,
   "metadata": {},
   "outputs": [],
   "source": []
  },
  {
   "cell_type": "code",
   "execution_count": 66,
   "metadata": {},
   "outputs": [],
   "source": [
    "trial_centers = np.vstack((centers_good_clusters, new_centers))"
   ]
  },
  {
   "cell_type": "code",
   "execution_count": 62,
   "metadata": {},
   "outputs": [
    {
     "name": "stdout",
     "output_type": "stream",
     "text": [
      "(5, 2)\n",
      "-------------------------------------------\n"
     ]
    }
   ],
   "source": [
    "centers, p, representative_cluster, Sx, S = run_cluster(centers.shape[0], dataset, initial_centers=trial_centers)"
   ]
  },
  {
   "cell_type": "code",
   "execution_count": 65,
   "metadata": {},
   "outputs": [
    {
     "data": {
      "image/png": "[encoded data removed]",
      "text/plain": [
       "<Figure size 720x288 with 2 Axes>"
      ]
     },
     "metadata": {
      "needs_background": "light"
     },
     "output_type": "display_data"
    }
   ],
   "source": [
    "optimal_nclusters = centers.shape[0]\n",
    "\n",
    "edgecolors = list()\n",
    "facecolors = list()\n",
    "for i in range(0, optimal_nclusters):\n",
    "    edgecolors.append(make_rgb_transparent(rgb=colormap(1.0*i/(optimal_nclusters-1)), alpha=1))\n",
    "    facecolors.append(make_rgb_transparent(rgb=colormap(1.0*i/(optimal_nclusters-1)), alpha=0.65))\n",
    "    \n",
    "    \n",
    "fig, axes = plt.subplots(1, 2, figsize=(10, 4))\n",
    "\n",
    "color_seq = list()\n",
    "for j in range(0, dataset.shape[0]):\n",
    "    color_seq.append(make_rgb_transparent(edgecolors[representative_cluster[j]], 1-Sx[j]))\n",
    "for i in range(0, optimal_nclusters):\n",
    "    axes[1].scatter([], [], label=str(i), color=edgecolors[i])\n",
    "axes[1].scatter(dataset[:,0], dataset[:,1], marker='.', s=60, edgecolors=(0.6,0.6,0.6,0.5), c=color_seq)\n",
    "axes[1].scatter(centers[:,0], trial_centers[:,1], color=(0.8,0.2,0.2, 0.8), marker=\"v\")\n",
    "axes[1].set_xlabel('X')\n",
    "axes[1].set_ylabel('Y')\n",
    "axes[1].set_xlim(-1.2,1.2)\n",
    "axes[1].set_ylim(-1.2,1.2)\n",
    "axes[1].legend(loc=\"best\")\n",
    "\n",
    "plt.tight_layout()\n",
    "plt.show()"
   ]
  },
  {
   "cell_type": "code",
   "execution_count": 45,
   "metadata": {},
   "outputs": [
    {
     "data": {
      "text/plain": [
       "2"
      ]
     },
     "execution_count": 45,
     "metadata": {},
     "output_type": "execute_result"
    }
   ],
   "source": [
    "len(edgecolors)"
   ]
  },
  {
   "cell_type": "markdown",
   "metadata": {},
   "source": [
    "Initialize fcmeans with different seeds the do statistics would probably help\n",
    "\n"
   ]
  },
  {
   "cell_type": "code",
   "execution_count": null,
   "metadata": {},
   "outputs": [],
   "source": []
  },
  {
   "cell_type": "markdown",
   "metadata": {},
   "source": []
  },
  {
   "cell_type": "code",
   "execution_count": null,
   "metadata": {},
   "outputs": [],
   "source": []
  },
  {
   "cell_type": "markdown",
   "metadata": {},
   "source": [
    "**References:**"
   ]
  },
  {
   "cell_type": "markdown",
   "metadata": {},
   "source": [
    "{% bibliography --cited %}"
   ]
  }
 ],
 "metadata": {
  "kernelspec": {
   "display_name": "Python 3",
   "language": "python",
   "name": "python3"
  },
  "language_info": {
   "codemirror_mode": {
    "name": "ipython",
    "version": 3
   },
   "file_extension": ".py",
   "mimetype": "text/x-python",
   "name": "python",
   "nbconvert_exporter": "python",
   "pygments_lexer": "ipython3",
   "version": "3.8.5"
  }
 },
 "nbformat": 4,
 "nbformat_minor": 4
}
