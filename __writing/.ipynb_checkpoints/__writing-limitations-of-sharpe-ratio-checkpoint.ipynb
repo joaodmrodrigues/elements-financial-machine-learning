{
 "cells": [
  {
   "cell_type": "code",
   "execution_count": null,
   "metadata": {},
   "outputs": [],
   "source": []
  },
  {
   "cell_type": "code",
   "execution_count": null,
   "metadata": {},
   "outputs": [],
   "source": []
  },
  {
   "cell_type": "code",
   "execution_count": null,
   "metadata": {},
   "outputs": [],
   "source": []
  },
  {
   "cell_type": "code",
   "execution_count": 61,
   "metadata": {},
   "outputs": [],
   "source": [
    "N = 1000\n",
    "strategy_returns_mean = 0.05\n",
    "strategy_returns_std = 0.50\n",
    "\n",
    "seed = 41"
   ]
  },
  {
   "cell_type": "code",
   "execution_count": 62,
   "metadata": {},
   "outputs": [],
   "source": [
    "import numpy as np\n",
    "\n",
    "rand = np.random.RandomState(seed=seed)\n",
    "t = np.arange(0,N,1)\n"
   ]
  },
  {
   "cell_type": "code",
   "execution_count": 63,
   "metadata": {},
   "outputs": [],
   "source": [
    "strategy_returns1 = rand.normal(loc=strategy_returns_mean, \n",
    "                                 scale=strategy_returns_std,\n",
    "                                 size=N)\n",
    "strategy_pnl1 = np.cumsum(strategy_returns1)"
   ]
  },
  {
   "cell_type": "code",
   "execution_count": 64,
   "metadata": {},
   "outputs": [],
   "source": [
    "import matplotlib.pyplot as plt"
   ]
  },
  {
   "cell_type": "code",
   "execution_count": 65,
   "metadata": {},
   "outputs": [
    {
     "data": {
      "image/png": "[encoded data removed]",
      "text/plain": [
       "<Figure size 432x288 with 1 Axes>"
      ]
     },
     "metadata": {
      "needs_background": "light"
     },
     "output_type": "display_data"
    }
   ],
   "source": [
    "plt.plot(t, strategy_pnl1)\n",
    "plt.show()"
   ]
  },
  {
   "cell_type": "code",
   "execution_count": 66,
   "metadata": {},
   "outputs": [
    {
     "name": "stdout",
     "output_type": "stream",
     "text": [
      "Sharpe ratio = 1.14\n"
     ]
    }
   ],
   "source": [
    "sharpe_ratio1 = np.sqrt(252)*np.mean(strategy_returns1)/np.std(strategy_returns1)\n",
    "print(\"Sharpe ratio =\", np.round(sharpe_ratio1, 2))"
   ]
  },
  {
   "cell_type": "code",
   "execution_count": 70,
   "metadata": {},
   "outputs": [],
   "source": [
    "N = 1000\n",
    "strategy_returns_mean_1 = 0.00\n",
    "strategy_returns_std_1 = 0.50\n",
    "\n",
    "strategy_returns_mean_2 = 0.10\n",
    "strategy_returns_std_2 = 0.50"
   ]
  },
  {
   "cell_type": "code",
   "execution_count": 71,
   "metadata": {},
   "outputs": [],
   "source": [
    "strategy_returns_phase1 = rand.normal(loc=strategy_returns_mean_1, \n",
    "                                     scale=strategy_returns_std_1,\n",
    "                                     size=int(N/2))\n",
    "strategy_returns_phase2 = rand.normal(loc=strategy_returns_mean_2, \n",
    "                                     scale=strategy_returns_std_2,\n",
    "                                     size=int(N/2))\n",
    "strategy_returns2 = np.concatenate((strategy_returns_phase1, strategy_returns_phase2))\n",
    "\n",
    "strategy_pnl2 = np.cumsum(strategy_returns2)"
   ]
  },
  {
   "cell_type": "code",
   "execution_count": 72,
   "metadata": {},
   "outputs": [
    {
     "data": {
      "image/png": "[encoded data removed]",
      "text/plain": [
       "<Figure size 432x288 with 1 Axes>"
      ]
     },
     "metadata": {
      "needs_background": "light"
     },
     "output_type": "display_data"
    }
   ],
   "source": [
    "plt.plot(t, strategy_pnl2)\n",
    "plt.show()"
   ]
  },
  {
   "cell_type": "code",
   "execution_count": 73,
   "metadata": {},
   "outputs": [
    {
     "name": "stdout",
     "output_type": "stream",
     "text": [
      "Sharpe ratio = 1.68\n"
     ]
    }
   ],
   "source": [
    "sharpe_ratio2 = np.sqrt(252)*np.mean(strategy_returns2)/np.std(strategy_returns2)\n",
    "print(\"Sharpe ratio =\", np.round(sharpe_ratio2, 2))"
   ]
  },
  {
   "cell_type": "markdown",
   "metadata": {},
   "source": [
    "Statistics of intervals between profitable trades"
   ]
  },
  {
   "cell_type": "code",
   "execution_count": 80,
   "metadata": {},
   "outputs": [],
   "source": [
    "t_profit1 = t[strategy_returns1>0]\n",
    "intervals1 = t_profit1[1:]-t_profit1[:-1]\n",
    "\n",
    "t_profit2 = t[strategy_returns2>0]\n",
    "intervals2 = t_profit2[1:]-t_profit2[:-1]"
   ]
  },
  {
   "cell_type": "code",
   "execution_count": 87,
   "metadata": {},
   "outputs": [
    {
     "data": {
      "text/plain": [
       "1.1381372177976699"
      ]
     },
     "execution_count": 87,
     "metadata": {},
     "output_type": "execute_result"
    }
   ],
   "source": [
    "np.mean(intervals2)/np.std(intervals2)**2"
   ]
  },
  {
   "cell_type": "code",
   "execution_count": 81,
   "metadata": {},
   "outputs": [],
   "source": [
    "from statsmodels.stats.diagnostic import lilliefors"
   ]
  },
  {
   "cell_type": "code",
   "execution_count": 83,
   "metadata": {},
   "outputs": [],
   "source": [
    "pvalue1 = lilliefors(x=intervals1,\n",
    "                   dist=\"exp\",\n",
    "                   pvalmethod=\"table\")\n",
    "\n",
    "pvalue2 = lilliefors(x=intervals2,\n",
    "                   dist=\"exp\",\n",
    "                   pvalmethod=\"table\")"
   ]
  },
  {
   "cell_type": "code",
   "execution_count": 84,
   "metadata": {},
   "outputs": [
    {
     "data": {
      "text/plain": [
       "(0.4150006707389544, 0.0009999999999998899)"
      ]
     },
     "execution_count": 84,
     "metadata": {},
     "output_type": "execute_result"
    }
   ],
   "source": [
    "pvalue1"
   ]
  },
  {
   "cell_type": "code",
   "execution_count": 85,
   "metadata": {},
   "outputs": [
    {
     "data": {
      "text/plain": [
       "(0.4268856451585201, 0.0009999999999998899)"
      ]
     },
     "execution_count": 85,
     "metadata": {},
     "output_type": "execute_result"
    }
   ],
   "source": [
    "pvalue2"
   ]
  },
  {
   "cell_type": "code",
   "execution_count": null,
   "metadata": {},
   "outputs": [],
   "source": []
  }
 ],
 "metadata": {
  "kernelspec": {
   "display_name": "Python 3",
   "language": "python",
   "name": "python3"
  },
  "language_info": {
   "codemirror_mode": {
    "name": "ipython",
    "version": 3
   },
   "file_extension": ".py",
   "mimetype": "text/x-python",
   "name": "python",
   "nbconvert_exporter": "python",
   "pygments_lexer": "ipython3",
   "version": "3.8.5"
  }
 },
 "nbformat": 4,
 "nbformat_minor": 4
}
